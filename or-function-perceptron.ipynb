{
 "cells": [
  {
   "cell_type": "markdown",
   "id": "285ab24f",
   "metadata": {},
   "source": [
    "# OR function\n",
    "The or function have two inputs with values 1 or 0 and it return value 1 or 0. That function return 1 if and only if at least one input is 1."
   ]
  },
  {
   "cell_type": "code",
   "execution_count": 33,
   "id": "23b61661",
   "metadata": {},
   "outputs": [],
   "source": [
    "from perceptron import Perceptron\n",
    "import numpy as np\n",
    "import pandas as pd\n",
    "import matplotlib.pyplot as plt"
   ]
  },
  {
   "cell_type": "code",
   "execution_count": 34,
   "id": "b21d47c2",
   "metadata": {},
   "outputs": [],
   "source": [
    "inputs = np.array([[0,0],[0,1],[1,0],[1,1]])\n",
    "targets = np.array([0,1,1,1])"
   ]
  },
  {
   "cell_type": "code",
   "execution_count": 35,
   "id": "862db76a",
   "metadata": {},
   "outputs": [
    {
     "data": {
      "image/png": "[encoded data removed]",
      "text/plain": [
       "<Figure size 640x480 with 1 Axes>"
      ]
     },
     "metadata": {},
     "output_type": "display_data"
    }
   ],
   "source": [
    "fig = plt.figure()\n",
    "ax = fig.add_subplot(1,1,1)\n",
    "ax.plot(inputs[1:,0],inputs[1:,1],'.',)\n",
    "ax.plot(inputs[0,0],inputs[0,1],'x',color='red')\n",
    "plt.show()"
   ]
  },
  {
   "cell_type": "markdown",
   "id": "34274228",
   "metadata": {},
   "source": [
    "As observed, the set where the or fuction return 1 is linear separable from the set where the or function return 0. Therefore, we can use a perceptron to classifier between "
   ]
  },
  {
   "cell_type": "code",
   "execution_count": 39,
   "id": "5a7670fb",
   "metadata": {},
   "outputs": [],
   "source": [
    "clf = Perceptron()"
   ]
  },
  {
   "cell_type": "code",
   "execution_count": 37,
   "id": "286b9000",
   "metadata": {},
   "outputs": [],
   "source": [
    "clf.fit(inputs,targets)"
   ]
  },
  {
   "cell_type": "code",
   "execution_count": 38,
   "id": "e6018d88",
   "metadata": {},
   "outputs": [
    {
     "data": {
      "text/plain": [
       "array([0, 1, 1, 1])"
      ]
     },
     "execution_count": 38,
     "metadata": {},
     "output_type": "execute_result"
    }
   ],
   "source": [
    "clf.predict(inputs)"
   ]
  }
 ],
 "metadata": {
  "kernelspec": {
   "display_name": "Python 3 (ipykernel)",
   "language": "python",
   "name": "python3"
  },
  "language_info": {
   "codemirror_mode": {
    "name": "ipython",
    "version": 3
   },
   "file_extension": ".py",
   "mimetype": "text/x-python",
   "name": "python",
   "nbconvert_exporter": "python",
   "pygments_lexer": "ipython3",
   "version": "3.11.5"
  }
 },
 "nbformat": 4,
 "nbformat_minor": 5
}
