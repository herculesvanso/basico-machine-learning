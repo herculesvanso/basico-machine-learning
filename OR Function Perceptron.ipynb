{
 "cells": [
  {
   "cell_type": "markdown",
   "id": "03e44886",
   "metadata": {},
   "source": [
    "# Básico sobre Aprendizado de Máquina\n",
    "\n",
    "Contrução de uma Perceptron para prever as saídas da função OU: {(0,0),(1,0),(0,1),(1,1)} -> {0,1}.\n",
    "A função OU recebe um par ordenado de entrada e retorna o valor 1 se, e somente se, ao menos uma das entradas do par ordenado for 1.\n"
   ]
  },
  {
   "cell_type": "code",
   "execution_count": 57,
   "id": "bbc600ff",
   "metadata": {},
   "outputs": [],
   "source": [
    "import numpy as np"
   ]
  },
  {
   "cell_type": "code",
   "execution_count": 58,
   "id": "af0f43e9",
   "metadata": {},
   "outputs": [
    {
     "data": {
      "text/plain": [
       "array([[ 0,  0, -1],\n",
       "       [ 1,  0, -1],\n",
       "       [ 0,  1, -1],\n",
       "       [ 1,  1, -1]])"
      ]
     },
     "execution_count": 58,
     "metadata": {},
     "output_type": "execute_result"
    }
   ],
   "source": [
    "inputs = np.array([\n",
    "    [0,0],\n",
    "    [1,0],\n",
    "    [0,1],\n",
    "    [1,1]])\n",
    "bias = np.array(4*[-1]).reshape(4,1)\n",
    "targets=np.array([0,1,1,1])\n",
    "inputs = np.concatenate((inputs,bias),axis=1)\n",
    "inputs\n"
   ]
  },
  {
   "cell_type": "code",
   "execution_count": 59,
   "id": "7e750fd6",
   "metadata": {},
   "outputs": [
    {
     "data": {
      "text/plain": [
       "array([[-1],\n",
       "       [-1],\n",
       "       [-1],\n",
       "       [-1]])"
      ]
     },
     "execution_count": 59,
     "metadata": {},
     "output_type": "execute_result"
    }
   ],
   "source": [
    "targets=np.array([[0],[1],[1],[1]])\n",
    "bias = np.array(4*[-1]).reshape(4,1)\n",
    "bias"
   ]
  },
  {
   "cell_type": "code",
   "execution_count": 60,
   "id": "4d6f0487",
   "metadata": {},
   "outputs": [
    {
     "data": {
      "text/plain": [
       "array([[ 0.02787743],\n",
       "       [ 0.03313953],\n",
       "       [-0.01361803]])"
      ]
     },
     "execution_count": 60,
     "metadata": {},
     "output_type": "execute_result"
    }
   ],
   "source": [
    "weights = np.random.rand(3,1) *.1 -.05\n",
    "weights"
   ]
  },
  {
   "cell_type": "code",
   "execution_count": 62,
   "id": "8a11afda",
   "metadata": {},
   "outputs": [],
   "source": [
    "learning_rate = 0.2 #/usualmente 0.1 to 0.4"
   ]
  },
  {
   "cell_type": "code",
   "execution_count": 63,
   "id": "26cf9a08",
   "metadata": {},
   "outputs": [],
   "source": [
    "def activation(x,y): \n",
    "    return 1 if np.inner(x,y) > 0 else 0"
   ]
  },
  {
   "cell_type": "code",
   "execution_count": 70,
   "id": "ccdc81ad",
   "metadata": {},
   "outputs": [],
   "source": [
    "epochs = 1\n",
    "n = inputs.shape[0]"
   ]
  },
  {
   "cell_type": "code",
   "execution_count": 71,
   "id": "a992f4fc",
   "metadata": {},
   "outputs": [],
   "source": [
    "for j in range(epochs):\n",
    "    for i in range(n):\n",
    "        output = activation(inputs[i],weights[:,0])\n",
    "        weights[:,0] += learning_rate *( targets[i][0] - output )* inputs[i]\n",
    "\n",
    "    "
   ]
  },
  {
   "cell_type": "code",
   "execution_count": 72,
   "id": "af6bcd12",
   "metadata": {},
   "outputs": [
    {
     "data": {
      "text/plain": [
       "array([[0.22787743],\n",
       "       [0.23313953],\n",
       "       [0.18638197]])"
      ]
     },
     "execution_count": 72,
     "metadata": {},
     "output_type": "execute_result"
    }
   ],
   "source": [
    "weights"
   ]
  },
  {
   "cell_type": "code",
   "execution_count": 73,
   "id": "433c1cda",
   "metadata": {},
   "outputs": [],
   "source": [
    "test = []"
   ]
  },
  {
   "cell_type": "code",
   "execution_count": 74,
   "id": "a636121b",
   "metadata": {},
   "outputs": [],
   "source": [
    "for i in range(4):\n",
    "    test.append(activation(inputs[i],weights[:,0]))"
   ]
  },
  {
   "cell_type": "code",
   "execution_count": 75,
   "id": "fb2da72f",
   "metadata": {},
   "outputs": [
    {
     "data": {
      "text/plain": [
       "[0, 1, 1, 1]"
      ]
     },
     "execution_count": 75,
     "metadata": {},
     "output_type": "execute_result"
    }
   ],
   "source": [
    "test"
   ]
  }
 ],
 "metadata": {
  "kernelspec": {
   "display_name": "Python 3 (ipykernel)",
   "language": "python",
   "name": "python3"
  },
  "language_info": {
   "codemirror_mode": {
    "name": "ipython",
    "version": 3
   },
   "file_extension": ".py",
   "mimetype": "text/x-python",
   "name": "python",
   "nbconvert_exporter": "python",
   "pygments_lexer": "ipython3",
   "version": "3.11.5"
  }
 },
 "nbformat": 4,
 "nbformat_minor": 5
}
