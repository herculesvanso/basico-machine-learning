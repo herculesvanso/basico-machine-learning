{
 "cells": [
  {
   "cell_type": "markdown",
   "id": "03e44886",
   "metadata": {},
   "source": [
    "# Básico sobre Aprendizado de Máquina\n",
    "\n",
    "Contrução de uma Perceptron para prever as saídas da função OU: {(0,0),(1,0),(0,1),(1,1)} -> {0,1}.\n",
    "A função OU recebe um par ordenado de entrada e retorna o valor 1 se, e somente se, ao menos uma das entradas do par ordenado for 1."
   ]
  },
  {
   "cell_type": "code",
   "execution_count": 110,
   "id": "bbc600ff",
   "metadata": {},
   "outputs": [],
   "source": [
    "import numpy as np"
   ]
  },
  {
   "cell_type": "code",
   "execution_count": 111,
   "id": "af0f43e9",
   "metadata": {},
   "outputs": [],
   "source": [
    "inputs = np.array([\n",
    "    [0,0],\n",
    "    [1,0],\n",
    "    [0,1],\n",
    "    [1,1]])\n",
    "bias = np.array(4*[-1]).reshape(4,1)\n",
    "targets=np.array([0,1,1,1])"
   ]
  },
  {
   "cell_type": "code",
   "execution_count": 112,
   "id": "92f15c5a",
   "metadata": {},
   "outputs": [
    {
     "data": {
      "text/plain": [
       "array([[ 0,  0, -1],\n",
       "       [ 1,  0, -1],\n",
       "       [ 0,  1, -1],\n",
       "       [ 1,  1, -1]])"
      ]
     },
     "execution_count": 112,
     "metadata": {},
     "output_type": "execute_result"
    }
   ],
   "source": [
    "inputs_bias = np.concatenate((inputs,bias),axis=1)\n",
    "inputs_bias"
   ]
  },
  {
   "cell_type": "code",
   "execution_count": 113,
   "id": "7e750fd6",
   "metadata": {},
   "outputs": [],
   "source": [
    "targets = np.array([[0],[1],[1],[1]])"
   ]
  },
  {
   "cell_type": "code",
   "execution_count": 114,
   "id": "4d6f0487",
   "metadata": {},
   "outputs": [
    {
     "data": {
      "text/plain": [
       "array([[ 0.02343859],\n",
       "       [ 0.00428136],\n",
       "       [-0.03883385]])"
      ]
     },
     "execution_count": 114,
     "metadata": {},
     "output_type": "execute_result"
    }
   ],
   "source": [
    "weights = np.random.rand(3,1) *.1 -.05\n",
    "weights"
   ]
  },
  {
   "cell_type": "code",
   "execution_count": 115,
   "id": "8a11afda",
   "metadata": {},
   "outputs": [],
   "source": [
    "#taxa de aprendizado\n",
    "eta = 0.2 #/usualmente 0.1 to 0.4"
   ]
  },
  {
   "cell_type": "code",
   "execution_count": 116,
   "id": "26cf9a08",
   "metadata": {},
   "outputs": [],
   "source": [
    "#função de ativação\n",
    "def activation(x,y): \n",
    "    return 1 if np.inner(x,y) > 0 else 0"
   ]
  },
  {
   "cell_type": "code",
   "execution_count": 117,
   "id": "ccdc81ad",
   "metadata": {},
   "outputs": [],
   "source": [
    "epochs = 10\n",
    "n = inputs.shape[0]"
   ]
  },
  {
   "cell_type": "code",
   "execution_count": 118,
   "id": "a992f4fc",
   "metadata": {},
   "outputs": [],
   "source": [
    "#Treinamento do perceptron\n",
    "for j in range(epochs):\n",
    "    for i in range(n):\n",
    "        output = activation(inputs_bias[i],weights[:,0])\n",
    "        weights[:,0] += eta *( targets[i][0] - output )* inputs_bias[i]"
   ]
  },
  {
   "cell_type": "code",
   "execution_count": 119,
   "id": "af6bcd12",
   "metadata": {},
   "outputs": [
    {
     "data": {
      "text/plain": [
       "array([[0.22343859],\n",
       "       [0.20428136],\n",
       "       [0.16116615]])"
      ]
     },
     "execution_count": 119,
     "metadata": {},
     "output_type": "execute_result"
    }
   ],
   "source": [
    "#Pesos após o treinamento\n",
    "weights"
   ]
  },
  {
   "cell_type": "code",
   "execution_count": 120,
   "id": "a636121b",
   "metadata": {},
   "outputs": [
    {
     "data": {
      "text/plain": [
       "[0, 1, 1, 1]"
      ]
     },
     "execution_count": 120,
     "metadata": {},
     "output_type": "execute_result"
    }
   ],
   "source": [
    "#Testando as saidas após o treinamento\n",
    "test_output = []\n",
    "for i in range(4):\n",
    "    test_output.append(activation(inputs_bias[i],weights[:,0]))\n",
    "test_output"
   ]
  }
 ],
 "metadata": {
  "kernelspec": {
   "display_name": "Python 3 (ipykernel)",
   "language": "python",
   "name": "python3"
  },
  "language_info": {
   "codemirror_mode": {
    "name": "ipython",
    "version": 3
   },
   "file_extension": ".py",
   "mimetype": "text/x-python",
   "name": "python",
   "nbconvert_exporter": "python",
   "pygments_lexer": "ipython3",
   "version": "3.11.5"
  }
 },
 "nbformat": 4,
 "nbformat_minor": 5
}
